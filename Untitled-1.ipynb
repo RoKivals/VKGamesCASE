{
 "cells": [
  {
   "cell_type": "code",
   "execution_count": 1,
   "metadata": {},
   "outputs": [],
   "source": [
    "import pandas as pd\n"
   ]
  },
  {
   "cell_type": "code",
   "execution_count": 2,
   "metadata": {},
   "outputs": [
    {
     "name": "stdout",
     "output_type": "stream",
     "text": [
      "    Unnamed: 0  country_id  age  sex  friends  heavy_vk_platform  \\\n",
      "0            0           1   34    2       53            android   \n",
      "1            1         145   29    1     6743            android   \n",
      "2            2           1   15    2       61               web2   \n",
      "3            3           1   34    2        0                mvk   \n",
      "4            4           1   25    2       65                mvk   \n",
      "5            5           1   54    2       28            android   \n",
      "6            6           1   35    1        0             iphone   \n",
      "7            7           1   14    1      144            android   \n",
      "8            8           1   41    2       76            android   \n",
      "9            9           3  117    2        4            android   \n",
      "10          10           1   43    1       74            android   \n",
      "11          11           1   45    1       50            android   \n",
      "12          12           1   56    1      154            android   \n",
      "13          13           1   41    2      364            android   \n",
      "14          14           1   24    2        0   vk_video_android   \n",
      "15          15           1   33    1        0            android   \n",
      "16          16           1   47    1        0  android_messenger   \n",
      "17          17           1   55    2       28               web2   \n",
      "18          18           4   13    1        0                mvk   \n",
      "19          19           1   43    2      264             iphone   \n",
      "\n",
      "                                   vk_platforms_array  days_in_vk  \\\n",
      "0   ['web2', 'android', 'mvk', 'android_messenger'...          18   \n",
      "1                                         ['android']           2   \n",
      "2                                 ['web2', 'android']          30   \n",
      "3                                             ['mvk']           2   \n",
      "4                                     ['web2', 'mvk']           7   \n",
      "5                                  ['mvk', 'android']          26   \n",
      "6                      ['iphone_messenger', 'iphone']           6   \n",
      "7                                         ['android']          28   \n",
      "8              ['mvk', 'android', 'vk_video_android']          23   \n",
      "9                                  ['mvk', 'android']           8   \n",
      "10                                        ['android']           7   \n",
      "11                              ['android', 'iphone']          16   \n",
      "12                                 ['mvk', 'android']          30   \n",
      "13                                ['web2', 'android']          26   \n",
      "14            ['web2', 'android', 'vk_video_android']          15   \n",
      "15                                        ['android']          30   \n",
      "16                              ['android_messenger']          18   \n",
      "17                                           ['web2']           1   \n",
      "18                                            ['mvk']           1   \n",
      "19                          ['web2', 'mvk', 'iphone']          30   \n",
      "\n",
      "    avg_daily_ts  days_in_feed  ...  days_in_messages  avg_daily_ts_messages  \\\n",
      "0   13240.403333            17  ...                16            2062.786875   \n",
      "1       2.460000             1  ...                 0                    NaN   \n",
      "2    1096.586000            25  ...                30             951.446000   \n",
      "3     235.545000             1  ...                 0                    NaN   \n",
      "4     276.398571             4  ...                 3              68.880000   \n",
      "5     546.640385            24  ...                 8              55.657500   \n",
      "6       9.430000             2  ...                 1               6.150000   \n",
      "7    1567.459286            28  ...                17              16.785882   \n",
      "8    9031.034348            23  ...                13              26.870769   \n",
      "9     265.218750             7  ...                 7             172.727143   \n",
      "10    367.945714             6  ...                 2              55.350000   \n",
      "11   1400.893125            15  ...                14             568.787143   \n",
      "12   2145.694000            30  ...                 2               1.230000   \n",
      "13   9034.870385            26  ...                25             367.327200   \n",
      "14   7004.522000             1  ...                 0                    NaN   \n",
      "15      2.214000            30  ...                 0                    NaN   \n",
      "16    180.468333             0  ...                18             179.580000   \n",
      "17      2.460000             1  ...                 0                    NaN   \n",
      "18    654.360000             1  ...                 1               4.920000   \n",
      "19   2730.682000            30  ...                25             164.180400   \n",
      "\n",
      "    days_in_games  avg_daily_ts_games  games_revenue_in_app  \\\n",
      "0               0                 NaN                   0.0   \n",
      "1               0                 NaN                   0.0   \n",
      "2               0                 NaN                   0.0   \n",
      "3               0                 NaN                   0.0   \n",
      "4               0                 NaN                   0.0   \n",
      "5               0                 NaN                   0.0   \n",
      "6               0                 NaN                   0.0   \n",
      "7               0                 NaN                   0.0   \n",
      "8               0                 NaN                   0.0   \n",
      "9               0                 NaN                   0.0   \n",
      "10              0                 NaN                   0.0   \n",
      "11              0                 NaN                   0.0   \n",
      "12              0                 NaN                   0.0   \n",
      "13              0                 NaN                   0.0   \n",
      "14              0                 NaN                   0.0   \n",
      "15              0                 NaN                   0.0   \n",
      "16              0                 NaN                   0.0   \n",
      "17              0                 NaN                   0.0   \n",
      "18              0                 NaN                   0.0   \n",
      "19              0                 NaN                   0.0   \n",
      "\n",
      "    games_revenue_ads  total_revenue_vk  games  final_cluster  \\\n",
      "0              1.8209         14.099880     {}             15   \n",
      "1              0.0000          0.000000     {}              0   \n",
      "2              0.0000          0.371308     {}              6   \n",
      "3              0.0000          0.098684     {}             12   \n",
      "4              0.0000          0.115412     {}             22   \n",
      "5              0.0000          1.370758     {}              1   \n",
      "6              0.0000          0.000000     {}             13   \n",
      "7              0.0000          4.447919     {}             22   \n",
      "8              0.0000          5.696012     {}             14   \n",
      "9              0.0000          0.013942     {}              0   \n",
      "10             0.0000          7.176583     {}             22   \n",
      "11             0.0000          1.871233     {}             12   \n",
      "12             0.0000          4.091151     {}             16   \n",
      "13             0.0000         11.702444     {}              2   \n",
      "14             0.0000          0.000000     {}              6   \n",
      "15             0.0000          0.000000     {}              0   \n",
      "16             0.0000          0.000000     {}              0   \n",
      "17             0.0000          0.000000     {}              0   \n",
      "18             0.0000          0.000000     {}              0   \n",
      "19             0.0000          5.540355     {}              8   \n",
      "\n",
      "                                       interest_array  \n",
      "0   ['18+','Знакомства','Неоригинальный тематическ...  \n",
      "1   ['Мода','Неоригинальный тематический контент',...  \n",
      "2   ['Некачественный контент','Неоригинальный конт...  \n",
      "3                                                  []  \n",
      "4   ['Музыка','Неоригинальный тематический контент...  \n",
      "5                                                  []  \n",
      "6   ['Неоригинальный контент','Непрофессиональный ...  \n",
      "7   ['Здоровье','Неоригинальный тематический конте...  \n",
      "8   ['Услуги','Неоригинальный тематический контент...  \n",
      "9   ['Спорт','Неоригинальный тематический контент'...  \n",
      "10  ['Экзамены','Бизнес и экономика','Сообщество п...  \n",
      "11                                                 []  \n",
      "12  ['Неоригинальный тематический контент','Досуг'...  \n",
      "13  ['Неоригинальный тематический контент','Сообще...  \n",
      "14  ['Полезные советы','Интернет-шоу','Официальные...  \n",
      "15  ['Неоригинальный тематический контент','Неориг...  \n",
      "16                                                 []  \n",
      "17      ['Азартное','Услуги','Бизнес','Товары','Арт']  \n",
      "18                                                 []  \n",
      "19  ['Новости','Спорт','Неоригинальный тематически...  \n",
      "\n",
      "[20 rows x 25 columns]\n",
      "Index(['Unnamed: 0', 'country_id', 'age', 'sex', 'friends',\n",
      "       'heavy_vk_platform', 'vk_platforms_array', 'days_in_vk', 'avg_daily_ts',\n",
      "       'days_in_feed', 'avg_daily_ts_feed', 'days_in_clips',\n",
      "       'avg_daily_ts_clips', 'days_in_video', 'avg_daily_ts_video',\n",
      "       'days_in_messages', 'avg_daily_ts_messages', 'days_in_games',\n",
      "       'avg_daily_ts_games', 'games_revenue_in_app', 'games_revenue_ads',\n",
      "       'total_revenue_vk', 'games', 'final_cluster', 'interest_array'],\n",
      "      dtype='object')\n"
     ]
    }
   ],
   "source": [
    "data = pd.read_csv('/Users/1a/Desktop/case_dataset.csv')\n",
    "print(data.head(20))\n",
    "print(data.columns)\n",
    "data = data.drop(columns=['Unnamed: 0'])\n",
    "data = data[data['age']<90]"
   ]
  },
  {
   "cell_type": "code",
   "execution_count": 3,
   "metadata": {},
   "outputs": [],
   "source": [
    "import numpy as np\n",
    "import seaborn as sns\n",
    "import matplotlib.pyplot as plt\n"
   ]
  },
  {
   "cell_type": "code",
   "execution_count": 4,
   "metadata": {},
   "outputs": [],
   "source": [
    "sample0 = data.sample(n=1000)\n",
    "sample1 = data.sample(n=10000)\n",
    "sample2 = data.sample(n=100000)\n"
   ]
  },
  {
   "cell_type": "code",
   "execution_count": 6,
   "metadata": {},
   "outputs": [
    {
     "name": "stdout",
     "output_type": "stream",
     "text": [
      "         country_id  age  sex  friends heavy_vk_platform  \\\n",
      "0                 1   34    2       53           android   \n",
      "1               145   29    1     6743           android   \n",
      "2                 1   15    2       61              web2   \n",
      "3                 1   34    2        0               mvk   \n",
      "4                 1   25    2       65               mvk   \n",
      "...             ...  ...  ...      ...               ...   \n",
      "1020893         145   23    2        0              web2   \n",
      "1020894           4   14    2        0            iphone   \n",
      "1020895           1   15    2      139           android   \n",
      "1020896           1   45    2       12      vk_video_ios   \n",
      "1020897           1   19    1       10           android   \n",
      "\n",
      "                                        vk_platforms_array  days_in_vk  \\\n",
      "0        ['web2', 'android', 'mvk', 'android_messenger'...          18   \n",
      "1                                              ['android']           2   \n",
      "2                                      ['web2', 'android']          30   \n",
      "3                                                  ['mvk']           2   \n",
      "4                                          ['web2', 'mvk']           7   \n",
      "...                                                    ...         ...   \n",
      "1020893                                    ['web2', 'mvk']           8   \n",
      "1020894                                         ['iphone']           5   \n",
      "1020895    ['web2', 'android', 'mvk', 'android_messenger']          30   \n",
      "1020896                         ['iphone', 'vk_video_ios']           9   \n",
      "1020897                                        ['android']           1   \n",
      "\n",
      "         avg_daily_ts  days_in_feed  avg_daily_ts_feed  ...  \\\n",
      "0        13240.403333            17         632.943529  ...   \n",
      "1            2.460000             1           1.230000  ...   \n",
      "2         1096.586000            25          91.561200  ...   \n",
      "3          235.545000             1          28.290000  ...   \n",
      "4          276.398571             4         137.760000  ...   \n",
      "...               ...           ...                ...  ...   \n",
      "1020893      1.845000             0                NaN  ...   \n",
      "1020894    211.068000             3         202.950000  ...   \n",
      "1020895    817.909000            19           4.661053  ...   \n",
      "1020896   3043.156667             2          13.530000  ...   \n",
      "1020897   2434.170000             1        1525.200000  ...   \n",
      "\n",
      "         avg_daily_ts_messages  days_in_games  avg_daily_ts_games  \\\n",
      "0                  2062.786875              0                 NaN   \n",
      "1                          NaN              0                 NaN   \n",
      "2                   951.446000              0                 NaN   \n",
      "3                          NaN              0                 NaN   \n",
      "4                    68.880000              0                 NaN   \n",
      "...                        ...            ...                 ...   \n",
      "1020893               1.230000              0                 NaN   \n",
      "1020894              38.130000              0                 NaN   \n",
      "1020895             138.990000              0                 NaN   \n",
      "1020896                    NaN              0                 NaN   \n",
      "1020897              12.300000              0                 NaN   \n",
      "\n",
      "         games_revenue_in_app  games_revenue_ads  total_revenue_vk  games  \\\n",
      "0                         0.0             1.8209         14.099880     {}   \n",
      "1                         0.0             0.0000          0.000000     {}   \n",
      "2                         0.0             0.0000          0.371308     {}   \n",
      "3                         0.0             0.0000          0.098684     {}   \n",
      "4                         0.0             0.0000          0.115412     {}   \n",
      "...                       ...                ...               ...    ...   \n",
      "1020893                   0.0             0.0000          0.000000     {}   \n",
      "1020894                   0.0             0.0000          0.084717     {}   \n",
      "1020895                   0.0             0.0000          1.814223     {}   \n",
      "1020896                   0.0             0.0000          0.000000     {}   \n",
      "1020897                   0.0             0.0000          0.042635     {}   \n",
      "\n",
      "         final_cluster                                     interest_array  \\\n",
      "0                   15  ['18+','Знакомства','Неоригинальный тематическ...   \n",
      "1                    0  ['Мода','Неоригинальный тематический контент',...   \n",
      "2                    6  ['Некачественный контент','Неоригинальный конт...   \n",
      "3                   12                                                 []   \n",
      "4                   22  ['Музыка','Неоригинальный тематический контент...   \n",
      "...                ...                                                ...   \n",
      "1020893              0                                                 []   \n",
      "1020894              0  ['Новости','Знаменитости','Неоригинальный конт...   \n",
      "1020895              8  ['Неоригинальный тематический контент','Легков...   \n",
      "1020896              3          ['Новости','Кино','Оригинальный контент']   \n",
      "1020897             13        ['Арт','Развлечения','Фотография','Музыка']   \n",
      "\n",
      "         age_group  \n",
      "0         Молодежь  \n",
      "1         Молодежь  \n",
      "2             Дети  \n",
      "3         Молодежь  \n",
      "4         Молодежь  \n",
      "...            ...  \n",
      "1020893   Молодежь  \n",
      "1020894       Дети  \n",
      "1020895       Дети  \n",
      "1020896   Взрослые  \n",
      "1020897   Молодежь  \n",
      "\n",
      "[1005848 rows x 25 columns]\n"
     ]
    }
   ],
   "source": [
    "def classify_age(age):\n",
    "    if age < 18:\n",
    "        return 'Дети'\n",
    "    elif 18 <= age < 35:\n",
    "        return 'Молодежь'\n",
    "    elif 35 <= age < 60:\n",
    "        return 'Взрослые'\n",
    "    else:\n",
    "        return 'Пожилые'\n",
    "\n",
    "# Применяем функцию к столбцу возраста\n",
    "data['age_group'] = data['age'].apply(classify_age)\n",
    "\n",
    "print(data)"
   ]
  },
  {
   "cell_type": "code",
   "execution_count": 8,
   "metadata": {},
   "outputs": [
    {
     "name": "stdout",
     "output_type": "stream",
     "text": [
      "age_group\n",
      "Взрослые    234.668373\n",
      "Дети        527.461560\n",
      "Молодежь    427.389061\n",
      "Пожилые     233.851935\n",
      "Name: avg_daily_ts_messages, dtype: float64\n"
     ]
    }
   ],
   "source": [
    "print(data.groupby('age_group')['avg_daily_ts_messages'].mean())"
   ]
  },
  {
   "cell_type": "code",
   "execution_count": 9,
   "metadata": {},
   "outputs": [
    {
     "data": {
      "text/plain": [
       "<Axes: xlabel='age', ylabel='avg_daily_ts_messages'>"
      ]
     },
     "execution_count": 9,
     "metadata": {},
     "output_type": "execute_result"
    },
    {
     "data": {
      "image/png": "[encoded data removed]",
      "text/plain": [
       "<Figure size 640x480 with 1 Axes>"
      ]
     },
     "metadata": {},
     "output_type": "display_data"
    }
   ],
   "source": [
    "grouped = pd.DataFrame(data.groupby('age')['avg_daily_ts_messages'].mean())\n",
    "sns.scatterplot(x='age', y='avg_daily_ts_messages', data = grouped, alpha=0.5)"
   ]
  },
  {
   "cell_type": "code",
   "execution_count": 45,
   "metadata": {},
   "outputs": [
    {
     "data": {
      "text/plain": [
       "<Axes: xlabel='age', ylabel='days_in_games'>"
      ]
     },
     "execution_count": 45,
     "metadata": {},
     "output_type": "execute_result"
    },
    {
     "data": {
      "image/png": "[encoded data removed]",
      "text/plain": [
       "<Figure size 640x480 with 1 Axes>"
      ]
     },
     "metadata": {},
     "output_type": "display_data"
    }
   ],
   "source": [
    "grouped = pd.DataFrame(data.groupby('age')['days_in_games'].mean())\n",
    "sns.scatterplot(x='age', y='days_in_games', data = grouped, alpha=0.5)"
   ]
  },
  {
   "cell_type": "code",
   "execution_count": 47,
   "metadata": {},
   "outputs": [
    {
     "data": {
      "text/plain": [
       "<Axes: xlabel='age', ylabel='avg_daily_ts_games'>"
      ]
     },
     "execution_count": 47,
     "metadata": {},
     "output_type": "execute_result"
    },
    {
     "data": {
      "image/png": "[encoded data removed]",
      "text/plain": [
       "<Figure size 640x480 with 1 Axes>"
      ]
     },
     "metadata": {},
     "output_type": "display_data"
    }
   ],
   "source": [
    "grouped = pd.DataFrame(data.groupby('age')['avg_daily_ts_games'].mean())\n",
    "sns.scatterplot(x='age', y='avg_daily_ts_games', data = grouped, alpha=0.5)"
   ]
  },
  {
   "cell_type": "code",
   "execution_count": 10,
   "metadata": {},
   "outputs": [
    {
     "name": "stdout",
     "output_type": "stream",
     "text": [
      "age_group\n",
      "Взрослые    0.319436\n",
      "Дети        0.110460\n",
      "Молодежь    0.237803\n",
      "Пожилые     0.347044\n",
      "Name: games_revenue_in_app, dtype: float64\n"
     ]
    }
   ],
   "source": [
    "print(data.groupby('age_group')['games_revenue_in_app'].mean())"
   ]
  },
  {
   "cell_type": "code",
   "execution_count": 11,
   "metadata": {},
   "outputs": [
    {
     "name": "stdout",
     "output_type": "stream",
     "text": [
      "age_group\n",
      "Взрослые    0.094244\n",
      "Дети        0.019560\n",
      "Молодежь    0.038093\n",
      "Пожилые     0.095033\n",
      "Name: games_revenue_ads, dtype: float64\n"
     ]
    }
   ],
   "source": [
    "print(data.groupby('age_group')['games_revenue_ads'].mean())"
   ]
  },
  {
   "cell_type": "code",
   "execution_count": 12,
   "metadata": {},
   "outputs": [
    {
     "name": "stdout",
     "output_type": "stream",
     "text": [
      "age_group\n",
      "Взрослые    0.417562\n",
      "Дети        0.194440\n",
      "Молодежь    0.266317\n",
      "Пожилые     0.531402\n",
      "Name: days_in_games, dtype: float64\n"
     ]
    }
   ],
   "source": [
    "print(data.groupby('age_group')['days_in_games'].mean())"
   ]
  },
  {
   "cell_type": "code",
   "execution_count": 13,
   "metadata": {},
   "outputs": [
    {
     "name": "stdout",
     "output_type": "stream",
     "text": [
      "age_group\n",
      "Взрослые    1855.544471\n",
      "Дети         594.779209\n",
      "Молодежь     885.939133\n",
      "Пожилые     2377.320100\n",
      "Name: avg_daily_ts_games, dtype: float64\n"
     ]
    }
   ],
   "source": [
    "print(data.groupby('age_group')['avg_daily_ts_games'].mean())"
   ]
  },
  {
   "cell_type": "code",
   "execution_count": null,
   "metadata": {},
   "outputs": [],
   "source": []
  },
  {
   "cell_type": "code",
   "execution_count": 44,
   "metadata": {},
   "outputs": [
    {
     "data": {
      "text/plain": [
       "Index(['country_id', 'age', 'sex', 'friends', 'heavy_vk_platform',\n",
       "       'vk_platforms_array', 'days_in_vk', 'avg_daily_ts', 'days_in_feed',\n",
       "       'avg_daily_ts_feed', 'days_in_clips', 'avg_daily_ts_clips',\n",
       "       'days_in_video', 'avg_daily_ts_video', 'days_in_messages',\n",
       "       'avg_daily_ts_messages', 'days_in_games', 'avg_daily_ts_games',\n",
       "       'games_revenue_in_app', 'games_revenue_ads', 'total_revenue_vk',\n",
       "       'games', 'final_cluster', 'interest_array'],\n",
       "      dtype='object')"
      ]
     },
     "execution_count": 44,
     "metadata": {},
     "output_type": "execute_result"
    }
   ],
   "source": [
    "data.columns"
   ]
  },
  {
   "cell_type": "code",
   "execution_count": 15,
   "metadata": {},
   "outputs": [
    {
     "name": "stdout",
     "output_type": "stream",
     "text": [
      "0          {}\n",
      "1          {}\n",
      "2          {}\n",
      "3          {}\n",
      "4          {}\n",
      "           ..\n",
      "1020893    {}\n",
      "1020894    {}\n",
      "1020895    {}\n",
      "1020896    {}\n",
      "1020897    {}\n",
      "Name: games, Length: 1005848, dtype: object\n"
     ]
    }
   ],
   "source": [
    "games_visible = data['games'].dropna()\n",
    "print(games_visible)"
   ]
  }
 ],
 "metadata": {
  "kernelspec": {
   "display_name": "base",
   "language": "python",
   "name": "python3"
  },
  "language_info": {
   "codemirror_mode": {
    "name": "ipython",
    "version": 3
   },
   "file_extension": ".py",
   "mimetype": "text/x-python",
   "name": "python",
   "nbconvert_exporter": "python",
   "pygments_lexer": "ipython3",
   "version": "3.12.2"
  }
 },
 "nbformat": 4,
 "nbformat_minor": 2
}
